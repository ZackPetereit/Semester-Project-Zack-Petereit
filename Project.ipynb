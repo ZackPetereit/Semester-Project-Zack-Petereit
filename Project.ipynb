{
  "nbformat": 4,
  "nbformat_minor": 0,
  "metadata": {
    "colab": {
      "provenance": []
    },
    "kernelspec": {
      "name": "python3",
      "display_name": "Python 3"
    },
    "language_info": {
      "name": "python"
    }
  },
  "cells": [
    {
      "cell_type": "code",
      "execution_count": 4,
      "metadata": {
        "colab": {
          "base_uri": "https://localhost:8080/"
        },
        "id": "EogAngerk1sK",
        "outputId": "eee3b547-24b2-4747-b474-008a67ec8940"
      },
      "outputs": [
        {
          "output_type": "execute_result",
          "data": {
            "text/plain": [
              "Every 1 day at 00:00:00 do job() (last run: [never], next run: 2024-12-11 00:00:00)"
            ]
          },
          "metadata": {},
          "execution_count": 4
        }
      ],
      "source": [
        "# Install the schedule module if not already installed\n",
        "#!pip install schedule\n",
        "\n",
        "import numpy as np\n",
        "import pandas as pd\n",
        "import matplotlib.pyplot as plt\n",
        "import schedule\n",
        "import time\n",
        "import datetime\n",
        "\n",
        "# Your BLS API Key\n",
        "API_KEY = 'YOUR_BLS_API_KEY'\n",
        "\n",
        "# BLS API Endpoint\n",
        "BLS_API_URL = \"https://api.bls.gov/publicAPI/v2/timeseries/data/\"\n",
        "\n",
        "# Series IDs for data\n",
        "SERIES_IDS = [\"CEU0000000001\", \"LNS14000000\"]  # Non-farm workers and unemployment rate\n",
        "\n",
        "# Request headers\n",
        "headers = {\n",
        "    'Content-type': 'application/json'\n",
        "}\n",
        "\n",
        "def fetch_bls_data(series_ids):\n",
        "    payload = {\n",
        "        \"seriesid\": series_ids,\n",
        "        \"startyear\": \"2010\",\n",
        "        \"endyear\": str(datetime.datetime.now().year),\n",
        "        \"registrationkey\": API_KEY\n",
        "    }\n",
        "    response = requests.post(BLS_API_URL, json=payload, headers=headers)\n",
        "    return response.json()\n",
        "\n",
        "def parse_bls_data(data):\n",
        "    series_data = {}\n",
        "    for series in data['Results']['series']:\n",
        "        series_id = series['seriesID']\n",
        "        series_data[series_id] = pd.DataFrame(series['data'])\n",
        "        series_data[series_id]['value'] = pd.to_numeric(series_data[series_id]['value'])\n",
        "        series_data[series_id]['year'] = pd.to_numeric(series_data[series_id]['year'])\n",
        "        series_data[series_id]['period'] = series_data[series_id]['period'].apply(lambda x: int(x.lstrip('M')))\n",
        "        series_data[series_id]['date'] = pd.to_datetime(series_data[series_id]['year'].astype(str) + '-' + series_data[series_id]['period'].astype(str).str.zfill(2))\n",
        "        series_data[series_id].sort_values('date', inplace=True)\n",
        "    return series_data\n",
        "\n",
        "def update_dashboard():\n",
        "    data = fetch_bls_data(SERIES_IDS)\n",
        "    parsed_data = parse_bls_data(data)\n",
        "\n",
        "    # Example plot for non-farm workers\n",
        "    plt.figure(figsize=(10, 6))\n",
        "    plt.plot(parsed_data['CEU0000000001']['date'], parsed_data['CEU0000000001']['value'])\n",
        "    plt.title('Total Non-farm Workers')\n",
        "    plt.xlabel('Date')\n",
        "    plt.ylabel('Number of Workers')\n",
        "    plt.grid(True)\n",
        "    plt.show()\n",
        "\n",
        "    # Example plot for unemployment rate\n",
        "    plt.figure(figsize=(10, 6))\n",
        "    plt.plot(parsed_data['LNS14000000']['date'], parsed_data['LNS14000000']['value'])\n",
        "    plt.title('Unemployment Rate')\n",
        "    plt.xlabel('Date')\n",
        "    plt.ylabel('Unemployment Rate (%)')\n",
        "    plt.grid(True)\n",
        "    plt.show()\n",
        "\n",
        "# Helper function to schedule task monthly\n",
        "def job():\n",
        "    if datetime.datetime.now().day == 1:\n",
        "        update_dashboard()\n",
        "\n",
        "# Schedule the data collection for the first of every month\n",
        "schedule.every().day.at(\"00:00\").do(job)\n",
        "\n",
        "\n",
        "\n"
      ]
    }
  ]
}